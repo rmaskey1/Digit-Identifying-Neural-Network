{
 "cells": [
  {
   "cell_type": "markdown",
   "metadata": {},
   "source": [
    "# Low Level Neural Network Implementation for Digit Identification"
   ]
  },
  {
   "cell_type": "markdown",
   "metadata": {},
   "source": [
    "This neural network is implemented using Numpy, Pandas and pure linear algebra + calculus."
   ]
  },
  {
   "cell_type": "markdown",
   "metadata": {},
   "source": [
    "### 1. Importing Libraries"
   ]
  },
  {
   "cell_type": "code",
   "execution_count": 2,
   "metadata": {},
   "outputs": [
    {
     "name": "stdout",
     "output_type": "stream",
     "text": [
      "Requirement already satisfied: numpy in /opt/anaconda3/lib/python3.11/site-packages (1.26.4)\n",
      "Requirement already satisfied: pandas in /opt/anaconda3/lib/python3.11/site-packages (2.1.4)\n",
      "Requirement already satisfied: numpy<2,>=1.23.2 in /opt/anaconda3/lib/python3.11/site-packages (from pandas) (1.26.4)\n",
      "Requirement already satisfied: python-dateutil>=2.8.2 in /opt/anaconda3/lib/python3.11/site-packages (from pandas) (2.8.2)\n",
      "Requirement already satisfied: pytz>=2020.1 in /opt/anaconda3/lib/python3.11/site-packages (from pandas) (2023.3.post1)\n",
      "Requirement already satisfied: tzdata>=2022.1 in /opt/anaconda3/lib/python3.11/site-packages (from pandas) (2023.3)\n",
      "Requirement already satisfied: six>=1.5 in /opt/anaconda3/lib/python3.11/site-packages (from python-dateutil>=2.8.2->pandas) (1.16.0)\n",
      "Requirement already satisfied: matplotlib in /opt/anaconda3/lib/python3.11/site-packages (3.8.0)\n",
      "Requirement already satisfied: contourpy>=1.0.1 in /opt/anaconda3/lib/python3.11/site-packages (from matplotlib) (1.2.0)\n",
      "Requirement already satisfied: cycler>=0.10 in /opt/anaconda3/lib/python3.11/site-packages (from matplotlib) (0.11.0)\n",
      "Requirement already satisfied: fonttools>=4.22.0 in /opt/anaconda3/lib/python3.11/site-packages (from matplotlib) (4.25.0)\n",
      "Requirement already satisfied: kiwisolver>=1.0.1 in /opt/anaconda3/lib/python3.11/site-packages (from matplotlib) (1.4.4)\n",
      "Requirement already satisfied: numpy<2,>=1.21 in /opt/anaconda3/lib/python3.11/site-packages (from matplotlib) (1.26.4)\n",
      "Requirement already satisfied: packaging>=20.0 in /opt/anaconda3/lib/python3.11/site-packages (from matplotlib) (23.2)\n",
      "Requirement already satisfied: pillow>=6.2.0 in /opt/anaconda3/lib/python3.11/site-packages (from matplotlib) (10.2.0)\n",
      "Requirement already satisfied: pyparsing>=2.3.1 in /opt/anaconda3/lib/python3.11/site-packages (from matplotlib) (3.0.9)\n",
      "Requirement already satisfied: python-dateutil>=2.7 in /opt/anaconda3/lib/python3.11/site-packages (from matplotlib) (2.8.2)\n",
      "Requirement already satisfied: six>=1.5 in /opt/anaconda3/lib/python3.11/site-packages (from python-dateutil>=2.7->matplotlib) (1.16.0)\n"
     ]
    }
   ],
   "source": [
    "!pip install numpy\n",
    "!pip install pandas\n",
    "!pip install matplotlib"
   ]
  },
  {
   "cell_type": "code",
   "execution_count": 3,
   "metadata": {},
   "outputs": [],
   "source": [
    "import numpy as np\n",
    "import pandas as pd\n",
    "import matplotlib.pyplot as plt"
   ]
  },
  {
   "cell_type": "markdown",
   "metadata": {},
   "source": [
    "### 2. Dataset Preprocessing"
   ]
  },
  {
   "cell_type": "code",
   "execution_count": 4,
   "metadata": {},
   "outputs": [],
   "source": [
    "# Only extracting digits 1 and 5 for simplicity\n",
    "def binarize(ifile):\n",
    "    \n",
    "    output_filename = \"output.\" + ifile.split(\".\")[1]\n",
    "    write_file = open(output_filename, 'w')\n",
    "\n",
    "    read_file = open(ifile, 'r')\n",
    "    lines = read_file.readlines()\n",
    "\n",
    "    for line in lines:\n",
    "        # print(line[0])\n",
    "        if int(line[0]) == 1:\n",
    "            # print(\"is 1\")\n",
    "            newline_list = line.split(' ')\n",
    "            newline_list[0] = \"-1\"\n",
    "            newline = ' '.join(newline_list)\n",
    "            write_file.write(newline)\n",
    "        if int(line[0]) == 5:\n",
    "            # print(\"is 5\")\n",
    "            newline_list = line.split(' ')\n",
    "            newline_list[0] = \"1\"\n",
    "            newline = ' '.join(newline_list)\n",
    "            write_file.write(newline)\n",
    "\n",
    "# Normalizing based on pixel row intensity and symmetry\n",
    "def generate_input_output(ofile):\n",
    "    read_file = open(ofile, 'r')\n",
    "    lines = read_file.readlines()\n",
    "\n",
    "    output = []\n",
    "    input = []\n",
    "\n",
    "    for line in lines:\n",
    "        newline_list = line.split(' ')\n",
    "        if newline_list[0] == \"-1\":\n",
    "            \n",
    "            intensity = 0\n",
    "            for i in range(1, len(newline_list)-1):\n",
    "                intensity += float(newline_list[i])\n",
    "            \n",
    "            symmetry = 0\n",
    "            right_ptr = len(newline_list)-2\n",
    "            for left_ptr in range(1, int(len(newline_list)/2)):\n",
    "                symmetry += abs(float(newline_list[left_ptr]) - float(newline_list[right_ptr]))\n",
    "                right_ptr -= 1\n",
    "            \n",
    "            output.append(int(newline_list[0]))\n",
    "            input.append([intensity, symmetry])\n",
    "            \n",
    "        if newline_list[0] == \"1\":\n",
    "            \n",
    "            intensity = 0\n",
    "            for i in range(1, len(newline_list)-1):\n",
    "                intensity += float(newline_list[i])\n",
    "            \n",
    "            symmetry = 0\n",
    "            right_ptr = len(newline_list)-2\n",
    "            for left_ptr in range(1, int(len(newline_list)/2)):\n",
    "                symmetry += abs(float(newline_list[left_ptr]) - float(newline_list[right_ptr]))\n",
    "                right_ptr -= 1\n",
    "            \n",
    "            output.append(int(newline_list[0]))\n",
    "            input.append([intensity, symmetry])\n",
    "    \n",
    "    return input, output"
   ]
  },
  {
   "cell_type": "markdown",
   "metadata": {},
   "source": [
    "### 3. Forward Propagation"
   ]
  },
  {
   "cell_type": "code",
   "execution_count": 5,
   "metadata": {},
   "outputs": [],
   "source": [
    "def forward_propagation(input, hidden_units, W1, W2):\n",
    "    x0 = np.array(input)  # Necessary for back propagation\n",
    "    \n",
    "    # l = 1\n",
    "    s1 = np.zeros(hidden_units)\n",
    "    for i in range(hidden_units):\n",
    "        s = np.dot(input, W1[i])\n",
    "        s1[i] = s\n",
    "    \n",
    "    x1 = np.tanh(s1)\n",
    "    x1 = np.insert(x1, 0, 1)  # Adding bias neuron\n",
    "    \n",
    "    # l = 2\n",
    "    s2 = np.dot(W2, x1.T)\n",
    "    \n",
    "    x2 = np.tanh(s2)\n",
    "    \n",
    "    hx = x2\n",
    "    xl = [x0, x1, x2]  # d(l)+1, Collection of all output vectors\n",
    "    sl = [s1, s2]  # d(l), Collection of all signal vectors\n",
    "    \n",
    "    return hx, xl, sl"
   ]
  },
  {
   "cell_type": "markdown",
   "metadata": {},
   "source": [
    "### 4. Backward Propagation"
   ]
  },
  {
   "cell_type": "code",
   "execution_count": 6,
   "metadata": {},
   "outputs": [],
   "source": [
    "def back_propagation(hx, xl, sl, W2, output):\n",
    "    # Sensitivity vector calculation\n",
    "    theta_s2 = 1 - np.square(hx)\n",
    "    delta2 = 2 * (hx - output) * theta_s2\n",
    "    \n",
    "    theta_s1 = 1 - np.square(xl[1][1:])\n",
    "    delta1 = theta_s1 * np.dot(W2[:,1:].T, delta2)\n",
    "    \n",
    "    # Partial derivative calculation\n",
    "    de_dW1 = np.outer(delta1, xl[0])\n",
    "    de_dW2 = np.outer(delta2, xl[1])\n",
    "    \n",
    "    return de_dW1, de_dW2"
   ]
  },
  {
   "cell_type": "markdown",
   "metadata": {},
   "source": [
    "### 5. Calculating Gradient Error for Stochastic Gradient Descent Optimization"
   ]
  },
  {
   "cell_type": "code",
   "execution_count": 7,
   "metadata": {},
   "outputs": [],
   "source": [
    "def error_gradient_calculation(input, hx, W1, W2, output, de_dW1, de_dW2):\n",
    "    N = len(input[0])\n",
    "\n",
    "    Ein = ((hx - output)**2)/N\n",
    "    \n",
    "    G1 = de_dW1/N\n",
    "    G2 = de_dW2/N\n",
    "    \n",
    "    gradient = [G1, G2]\n",
    "    \n",
    "    return Ein, gradient"
   ]
  },
  {
   "cell_type": "markdown",
   "metadata": {},
   "source": [
    "### 6. Update Weight"
   ]
  },
  {
   "cell_type": "code",
   "execution_count": 8,
   "metadata": {},
   "outputs": [],
   "source": [
    "def update_weight(W1, W2, gradient):\n",
    "    \n",
    "    # print(\"W1 shape:\", W1.shape, \"Gradient[0] shape:\", gradient[0].shape)\n",
    "    # print(\"W2 shape:\", W2.shape, \"Gradient[1] shape:\", gradient[1].shape)\n",
    "    \n",
    "    learning_rate = 0.01 # Referenced textbook\n",
    "    W1 -= learning_rate*gradient[0]\n",
    "    W2 -= learning_rate*gradient[1]\n",
    "    return W1, W2 "
   ]
  },
  {
   "cell_type": "markdown",
   "metadata": {},
   "source": [
    "### 7. Neural Network Iterative Training"
   ]
  },
  {
   "cell_type": "code",
   "execution_count": 9,
   "metadata": {},
   "outputs": [],
   "source": [
    "def neural_network(input, output, hidden_units, epoch):\n",
    "    \n",
    "    input_with_bias = np.insert(input, 0, 1, axis=1) # Adding bias neuron to input neurons\n",
    "    \n",
    "    np.random.seed(0)\n",
    "    \n",
    "    W1 = np.random.randn(hidden_units, input_with_bias.shape[1])\n",
    "    W2 = np.random.randn(1, hidden_units+1) # +1 accounts for bias neuron\n",
    "    \n",
    "    error_list = []\n",
    "    \n",
    "    for i in range(epoch):\n",
    "        error = 0\n",
    "        \n",
    "        random_index = np.random.randint(0, len(input))\n",
    "        \n",
    "        input_value = input_with_bias[random_index]\n",
    "        output_value = output[random_index]\n",
    "\n",
    "        hx, xl, sl = forward_propagation(input_value, hidden_units, W1, W2)\n",
    "        # print(\"xl: \" + str(xl))\n",
    "        de_dW1, de_dW2 = back_propagation(hx, xl, sl, W2, output_value)\n",
    "        error, gradient = error_gradient_calculation(input, hx, W1, W2, output_value, de_dW1, de_dW2)\n",
    "        W1, W2 = update_weight(W1, W2, gradient)\n",
    "            \n",
    "        error = error/len(input_value)\n",
    "        error_list.append(error)\n",
    "        print(f\"Epoch {i+1} average error: {error}\")\n",
    "        \n",
    "    return W1, W2, error_list"
   ]
  },
  {
   "cell_type": "markdown",
   "metadata": {},
   "source": [
    "### 8. Running the Training Phase\n",
    "\n",
    "This step combines all of the previous functions to process the data, train the neural network, and display the average error per epoch as the neural network trains."
   ]
  },
  {
   "cell_type": "code",
   "execution_count": 11,
   "metadata": {},
   "outputs": [
    {
     "name": "stdout",
     "output_type": "stream",
     "text": [
      "[-28.605000000000008, 130.351]\n",
      "1\n",
      "Epoch 1 average error: [0.65955466]\n",
      "Epoch 2 average error: [0.53176256]\n",
      "Epoch 3 average error: [0.52229714]\n",
      "Epoch 4 average error: [0.51146621]\n",
      "Epoch 5 average error: [0.53991107]\n",
      "Epoch 6 average error: [0.66615002]\n",
      "Epoch 7 average error: [0.53130106]\n",
      "Epoch 8 average error: [0.66079325]\n",
      "Epoch 9 average error: [0.66076869]\n",
      "Epoch 10 average error: [0.66576257]\n",
      "Epoch 11 average error: [0.6662293]\n",
      "Epoch 12 average error: [0.50645699]\n",
      "Epoch 13 average error: [0.66074599]\n",
      "Epoch 14 average error: [0.66072104]\n",
      "Epoch 15 average error: [0.52434482]\n",
      "Epoch 16 average error: [0.49780967]\n",
      "Epoch 17 average error: [0.66034835]\n",
      "Epoch 18 average error: [0.6602454]\n",
      "Epoch 19 average error: [0.51703932]\n",
      "Epoch 20 average error: [0.65990192]\n",
      "Epoch 21 average error: [0.50471123]\n",
      "Epoch 22 average error: [0.49286319]\n",
      "Epoch 23 average error: [0.65943467]\n",
      "Epoch 24 average error: [0.6593357]\n",
      "Epoch 25 average error: [0.49619531]\n",
      "Epoch 26 average error: [0.65773273]\n",
      "Epoch 27 average error: [0.6588216]\n",
      "Epoch 28 average error: [0.64581922]\n",
      "Epoch 29 average error: [0.47965897]\n",
      "Epoch 30 average error: [0.50654917]\n",
      "Epoch 31 average error: [0.46820287]\n",
      "Epoch 32 average error: [0.48094374]\n",
      "Epoch 33 average error: [0.45670131]\n",
      "Epoch 34 average error: [0.43838383]\n",
      "Epoch 35 average error: [0.4180971]\n",
      "Epoch 36 average error: [0.39580856]\n",
      "Epoch 37 average error: [0.37159735]\n",
      "Epoch 38 average error: [0.49556889]\n",
      "Epoch 39 average error: [0.48173122]\n",
      "Epoch 40 average error: [0.35866388]\n",
      "Epoch 41 average error: [0.33203187]\n",
      "Epoch 42 average error: [0.30436658]\n",
      "Epoch 43 average error: [0.27631332]\n",
      "Epoch 44 average error: [0.24861311]\n",
      "Epoch 45 average error: [0.22200615]\n",
      "Epoch 46 average error: [0.50577911]\n",
      "Epoch 47 average error: [0.20279174]\n",
      "Epoch 48 average error: [0.17955059]\n",
      "Epoch 49 average error: [0.50462383]\n",
      "Epoch 50 average error: [0.66649975]\n",
      "Epoch 51 average error: [0.16386067]\n",
      "Epoch 52 average error: [0.49730512]\n",
      "Epoch 53 average error: [0.48368937]\n",
      "Epoch 54 average error: [0.46846535]\n",
      "Epoch 55 average error: [0.16119951]\n",
      "Epoch 56 average error: [0.14256333]\n",
      "Epoch 57 average error: [0.46342486]\n",
      "Epoch 58 average error: [0.13157298]\n",
      "Epoch 59 average error: [0.66650646]\n",
      "Epoch 60 average error: [0.11673317]\n",
      "Epoch 61 average error: [0.45667478]\n",
      "Epoch 62 average error: [0.00041649]\n",
      "Epoch 63 average error: [0.43839973]\n",
      "Epoch 64 average error: [0.11394426]\n",
      "Epoch 65 average error: [0.10155135]\n",
      "Epoch 66 average error: [0.09091839]\n",
      "Epoch 67 average error: [0.08179584]\n",
      "Epoch 68 average error: [0.0739552]\n",
      "Epoch 69 average error: [0.44156028]\n",
      "Epoch 70 average error: [0.07088997]\n",
      "Epoch 71 average error: [0.06454575]\n",
      "Epoch 72 average error: [0.05904285]\n",
      "Epoch 73 average error: [0.05425337]\n",
      "Epoch 74 average error: [0.35142639]\n",
      "Epoch 75 average error: [0.42787556]\n",
      "Epoch 76 average error: [0.06453658]\n",
      "Epoch 77 average error: [0.05903682]\n",
      "Epoch 78 average error: [0.05424619]\n",
      "Epoch 79 average error: [0.05005341]\n",
      "Epoch 80 average error: [0.04636625]\n",
      "Epoch 81 average error: [0.42660268]\n",
      "Epoch 82 average error: [0.40131514]\n",
      "Epoch 83 average error: [0.04881344]\n",
      "Epoch 84 average error: [0.04527232]\n",
      "Epoch 85 average error: [0.38371746]\n",
      "Epoch 86 average error: [0.35860213]\n",
      "Epoch 87 average error: [0.04816621]\n",
      "Epoch 88 average error: [0.04470066]\n",
      "Epoch 89 average error: [0.33836507]\n",
      "Epoch 90 average error: [0.04463482]\n",
      "Epoch 91 average error: [0.04157302]\n",
      "Epoch 92 average error: [0.03884877]\n",
      "Epoch 93 average error: [0.03641436]\n",
      "Epoch 94 average error: [0.32238146]\n",
      "Epoch 95 average error: [0.03680301]\n",
      "Epoch 96 average error: [0.03458025]\n",
      "Epoch 97 average error: [0.03257781]\n",
      "Epoch 98 average error: [0.03076499]\n",
      "Epoch 99 average error: [0.02912651]\n",
      "Epoch 100 average error: [0.02763232]\n"
     ]
    },
    {
     "data": {
      "image/png": "[encoded data removed]",
      "text/plain": [
       "<Figure size 640x480 with 1 Axes>"
      ]
     },
     "metadata": {},
     "output_type": "display_data"
    }
   ],
   "source": [
    "binarize(\"ZipDigits.train\")\n",
    "input, output = generate_input_output(\"output.train\")\n",
    "print(input[0])\n",
    "print(output[0])\n",
    "hidden_units = 5\n",
    "epoch = 100\n",
    "W1, W2, error_list = neural_network(input, output, hidden_units, epoch)\n",
    "# print(W1)\n",
    "# print(W2)\n",
    "\n",
    "plt.plot(error_list)  \n",
    "\n",
    "plt.xlabel('Epoch')  \n",
    "plt.ylabel('Error')  \n",
    "plt.title('Error per Iteration') \n",
    "plt.grid(True) \n",
    "\n",
    "plt.show()"
   ]
  }
 ],
 "metadata": {
  "kernelspec": {
   "display_name": "base",
   "language": "python",
   "name": "python3"
  },
  "language_info": {
   "codemirror_mode": {
    "name": "ipython",
    "version": 3
   },
   "file_extension": ".py",
   "mimetype": "text/x-python",
   "name": "python",
   "nbconvert_exporter": "python",
   "pygments_lexer": "ipython3",
   "version": "3.11.7"
  }
 },
 "nbformat": 4,
 "nbformat_minor": 2
}
